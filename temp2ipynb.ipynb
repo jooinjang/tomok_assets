{
 "cells": [
  {
   "cell_type": "code",
   "execution_count": 1,
   "metadata": {},
   "outputs": [],
   "source": [
    "import os"
   ]
  },
  {
   "cell_type": "code",
   "execution_count": 2,
   "metadata": {},
   "outputs": [],
   "source": [
    "filenames = os.listdir(\"./raw_files/downloaded/\")\n",
    "filenames = [fname for fname in filenames]"
   ]
  },
  {
   "cell_type": "code",
   "execution_count": 4,
   "metadata": {},
   "outputs": [],
   "source": [
    "for fname in filenames:\n",
    "    with open(\"./raw_files/downloaded/\" + fname, 'r') as fp:\n",
    "        temp = fp.readlines()\n",
    "    with open(\"./raw_files/ipynbs/\"+fname+\".ipynb\", 'w') as fp:\n",
    "        for line in temp:\n",
    "            fp.write(line + '\\n') "
   ]
  }
 ],
 "metadata": {
  "kernelspec": {
   "display_name": "alltheway",
   "language": "python",
   "name": "python3"
  },
  "language_info": {
   "codemirror_mode": {
    "name": "ipython",
    "version": 3
   },
   "file_extension": ".py",
   "mimetype": "text/x-python",
   "name": "python",
   "nbconvert_exporter": "python",
   "pygments_lexer": "ipython3",
   "version": "3.9.16"
  }
 },
 "nbformat": 4,
 "nbformat_minor": 2
}
