{
 "cells": [
  {
   "cell_type": "code",
   "execution_count": 8,
   "metadata": {},
   "outputs": [],
   "source": [
    "import re\n",
    "\n",
    "def remove_assigned_before_use(func_text):\n",
    "    \"\"\"\n",
    "    Remove arguments from the function definition that are assigned before being used.\n",
    "\n",
    "    Args:\n",
    "    func_text (str): The text of the Python function.\n",
    "\n",
    "    Returns:\n",
    "    str: The modified function text with certain arguments removed.\n",
    "    \"\"\"\n",
    "\n",
    "    # Find the function's arguments using a regular expression\n",
    "    args_pattern = r\"def\\s+\\w+\\((.*?)\\):\"\n",
    "    args_match = re.search(args_pattern, func_text)\n",
    "    if not args_match:\n",
    "        return \"Function definition not found.\"\n",
    "\n",
    "    args = args_match.group(1).split(',')\n",
    "\n",
    "    # Check each argument to see if it's assigned before being used\n",
    "    for arg in args:\n",
    "        arg = arg.strip()\n",
    "\n",
    "        # Create a pattern to check if the argument is assigned before use\n",
    "        assignment_pattern = rf\"{arg}\\s*=\"\n",
    "        if re.search(assignment_pattern, func_text):\n",
    "            # Remove the argument from the function definition\n",
    "            func_text = re.sub(rf\"\\b{arg}\\b,?\\s*\", \"\", func_text)\n",
    "\n",
    "    return func_text\n"
   ]
  },
  {
   "cell_type": "code",
   "execution_count": null,
   "metadata": {},
   "outputs": [],
   "source": []
  }
 ],
 "metadata": {
  "kernelspec": {
   "display_name": "alltheway",
   "language": "python",
   "name": "python3"
  },
  "language_info": {
   "codemirror_mode": {
    "name": "ipython",
    "version": 3
   },
   "file_extension": ".py",
   "mimetype": "text/x-python",
   "name": "python",
   "nbconvert_exporter": "python",
   "pygments_lexer": "ipython3",
   "version": "3.9.16"
  }
 },
 "nbformat": 4,
 "nbformat_minor": 2
}
